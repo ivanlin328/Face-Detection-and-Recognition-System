{
 "cells": [
  {
   "cell_type": "code",
   "execution_count": 1,
   "id": "c051e048",
   "metadata": {},
   "outputs": [],
   "source": [
    "import cv2\n",
    "import os,glob\n",
    "import numpy as np\n",
    "from time import sleep"
   ]
  },
  {
   "cell_type": "code",
   "execution_count": 2,
   "id": "43e81a02",
   "metadata": {},
   "outputs": [
    {
     "name": "stdout",
     "output_type": "stream",
     "text": [
      "Name:Ivanlin\n",
      "The name has already been used!\n"
     ]
    }
   ],
   "source": [
    "#save image\n",
    "def saveImg(image,index):\n",
    "    filename='images/'+ name +'/face{:03d}.jpg'.format(index)\n",
    "    cv2.imwrite(filename,image)\n",
    "\n",
    "#take 100 pictures\n",
    "index=1\n",
    "total=100 \n",
    "\n",
    "name=input(\"Name:\")\n",
    "\n",
    "if os.path.isdir('images/'+ name):\n",
    "    print(\"The name has already been used!\")\n",
    "else:\n",
    "    os.mkdir('images/'+ name) #create the file\n",
    "    face_cascade=cv2.CascadeClassifier(cv2.data.haarcascades + \"haarcascade_frontalface_alt2.xml\")\n",
    "    cap=cv2.VideoCapture(0)   #open the camera\n",
    "    cv2.namedWindow(\"video\",cv2.WINDOW_NORMAL) \n",
    "    while index>0:\n",
    "        ret, frame = cap.read()     # Capture a frame from the webcam\n",
    "        frame = cv2.flip(frame, 1)  # Flip the frame horizontally\n",
    "        gray = cv2.cvtColor(frame, cv2.COLOR_BGR2GRAY)  # Convert the frame to grayscale\n",
    "        faces = face_cascade.detectMultiScale(gray, 1.1, 3)\n",
    "        for (x, y, w, h) in faces:\n",
    "            frame = cv2.rectangle(frame, (x, y), (x + w, y + h), (0, 255, 0), 3)   # Draw a rectangle around the face\n",
    "            image = cv2.resize(gray[y: y + h, x: x + w], (400, 400))               # Crop and resize the face region\n",
    "            saveImg(image, index)  # Save the cropped face image\n",
    "            sleep(0.1)             # Wait for 0.1 seconds\n",
    "            index += 1\n",
    "        if index > total:\n",
    "            print(\"Sampling completed!\")\n",
    "            index=-1\n",
    "            break\n",
    "        cv2.imshow('video',frame)\n",
    "        cv2.waitKey(1)\n",
    "    cap.release()\n",
    "    cv2.destroyAllWindows()"
   ]
  },
  {
   "cell_type": "code",
   "execution_count": 20,
   "id": "b45fa2a5",
   "metadata": {},
   "outputs": [],
   "source": [
    "images = []             # List to store images\n",
    "labels = []             # List to store labels for each image\n",
    "labelstr = []           # List to store label strings (names)\n",
    "count = 0               # Counter for labeling\n",
    "\n",
    "dirs = os.listdir(\"images\")           # Get list of directories in the \"images\" folder\n",
    "for d in dirs:\n",
    "    if os.path.isdir('images/' + d):                 # Check if the item is a directory\n",
    "        files = glob.glob('images/' + d + '/*.jpg')  # Get all JPEG files in the directory\n",
    "        for filename in files:                       # Iterate through all files in the directory\n",
    "            img = cv2.imread(filename, cv2.COLOR_BGR2GRAY)  # Read the image in grayscale\n",
    "            images.append(img)                       # Add the image to the images list\n",
    "            labels.append(count)                     # Add the label (count) to the labels list\n",
    "        labelstr.append(d)                           # Add the directory name as a label string\n",
    "        count += 1                                   # Increment the label count\n",
    "\n"
   ]
  },
  {
   "cell_type": "code",
   "execution_count": 21,
   "id": "32b5effb",
   "metadata": {},
   "outputs": [
    {
     "name": "stdout",
     "output_type": "stream",
     "text": [
      "Start building Model...\n",
      "Model creation completed!\n"
     ]
    }
   ],
   "source": [
    "print('Start building Model...')\n",
    "model = cv2.face.LBPHFaceRecognizer_create()  # Create an empty LBPH model\n",
    "model.train(np.asarray(images), np.asarray(labels))  # Train the model with the images and labels\n",
    "model.save('faces_LBPH.yml')  # Save the trained model to a file\n",
    "print('Model creation completed!')"
   ]
  },
  {
   "cell_type": "code",
   "execution_count": 26,
   "id": "03ef7e6c",
   "metadata": {},
   "outputs": [],
   "source": [
    "f=open(\"member.txt\",'w')\n",
    "f.write(','.join(labelstr))\n",
    "f.close()"
   ]
  },
  {
   "cell_type": "code",
   "execution_count": 27,
   "id": "826b3f78",
   "metadata": {},
   "outputs": [],
   "source": [
    "import cv2\n",
    "import time"
   ]
  },
  {
   "cell_type": "code",
   "execution_count": 37,
   "id": "f1af6d15",
   "metadata": {},
   "outputs": [],
   "source": [
    "import cv2\n",
    "import time\n",
    "\n",
    "# Initialize video capture from the default camera (0)\n",
    "cap = cv2.VideoCapture(0)\n",
    "\n",
    "# Create a named window with normal size\n",
    "cv2.namedWindow('frame', cv2.WINDOW_NORMAL)\n",
    "\n",
    "# Record the current time\n",
    "timenow = time.time()\n",
    "\n",
    "while True:\n",
    "    # Calculate the countdown from 5 seconds\n",
    "    count = 5 - int(time.time() - timenow)\n",
    "\n",
    "    # Make a copy of the current image for drawing the countdown\n",
    "    imgcopy = img.copy()\n",
    "\n",
    "    # Draw the countdown number on the image\n",
    "    cv2.putText(imgcopy, str(count), (200, 400), cv2.FONT_HERSHEY_SIMPLEX, 15, (0, 0, 255), 35)\n",
    "\n",
    "    # Read a frame from the camera\n",
    "    ret, img = cap.read()\n",
    "\n",
    "    # Flip the image horizontally for a mirror effect\n",
    "    img = cv2.flip(img, 1)\n",
    "\n",
    "    # Display the image with the countdown\n",
    "    cv2.imshow(\"frame\", imgcopy)\n",
    "\n",
    "    # Wait for 100 milliseconds\n",
    "    k = cv2.waitKey(100)\n",
    "\n",
    "    # If 'z' or 'Z' is pressed, or the countdown reaches zero, save the image and break the loop\n",
    "    if k == ord(\"z\") or k == ord(\"Z\") or count == 0:\n",
    "        cv2.imwrite(\"tem.jpg\", img)  # Save the captured image as \"tem.jpg\"\n",
    "        break\n",
    "\n",
    "# Release the camera and close all OpenCV windows\n",
    "cap.release()\n",
    "cv2.destroyAllWindows()\n"
   ]
  },
  {
   "cell_type": "code",
   "execution_count": 41,
   "id": "fa9694f9",
   "metadata": {},
   "outputs": [],
   "source": [
    "# Load the trained LBPH face recognizer model from the specified file\n",
    "model = cv2.face.LBPHFaceRecognizer_create()  # Create an empty LBPH face recognizer model\n",
    "model.read('faces_LBPH.yml')  # Load the trained model parameters from the YAML file\n",
    "\n",
    "# Open the member names text file for reading\n",
    "f = open('member.txt', 'r')  \n",
    "\n",
    "# Read the first line from the file and split it into a list of names\n",
    "# The names are expected to be separated by commas in the file\n",
    "names = f.readline().split(',')  \n",
    "\n",
    "# Close the file after reading\n",
    "f.close()  \n"
   ]
  },
  {
   "cell_type": "code",
   "execution_count": 46,
   "id": "e0c28f4f",
   "metadata": {},
   "outputs": [
    {
     "name": "stdout",
     "output_type": "stream",
     "text": [
      "Welcome Ivanlin 25.151980076123937\n"
     ]
    }
   ],
   "source": [
    "# Load the Haar Cascade classifier for frontal face detection\n",
    "face_cascade = cv2.CascadeClassifier(cv2.data.haarcascades + \"haarcascade_frontalface_alt2.xml\")\n",
    "\n",
    "# Read the image file where the face will be detected\n",
    "img = cv2.imread(\"tem.jpg\")\n",
    "\n",
    "# Convert the image to grayscale for better face detection performance\n",
    "gray = cv2.cvtColor(img, cv2.COLOR_BGR2GRAY)\n",
    "\n",
    "# Detect faces in the image; the parameters control scale factor and min neighbors\n",
    "faces = face_cascade.detectMultiScale(gray, 1.1, 3)\n",
    "\n",
    "# Loop through all detected faces\n",
    "for (x, y, w, h) in faces:\n",
    "    # Draw a rectangle around each detected face\n",
    "    img = cv2.rectangle(img, (x, y), (x + w, y + h), (0, 255, 0), 3)\n",
    "\n",
    "    # Extract the face region and resize it to 400x400 pixels for recognition\n",
    "    face_img = cv2.resize(gray[y: y + h, x: x + w], (400, 400))\n",
    "\n",
    "    try:\n",
    "        # Predict the identity of the detected face using the trained model\n",
    "        val = model.predict(face_img)\n",
    "\n",
    "        # Check the confidence level (val[1]) to determine if the prediction is reliable\n",
    "        if val[1] < 50:  \n",
    "            print('Welcome ' + names[val[0]], val[1])  # Print the recognized member's name\n",
    "        else:\n",
    "            print('Sorry! You are not a member, cannot access!')  # If confidence is too high, deny access\n",
    "    except Exception as e:\n",
    "        print('Error!', e)  # Catch any exceptions and print the error message\n"
   ]
  },
  {
   "cell_type": "code",
   "execution_count": null,
   "id": "8386e2c9",
   "metadata": {},
   "outputs": [],
   "source": []
  }
 ],
 "metadata": {
  "kernelspec": {
   "display_name": "Python 3 (ipykernel)",
   "language": "python",
   "name": "python3"
  },
  "language_info": {
   "codemirror_mode": {
    "name": "ipython",
    "version": 3
   },
   "file_extension": ".py",
   "mimetype": "text/x-python",
   "name": "python",
   "nbconvert_exporter": "python",
   "pygments_lexer": "ipython3",
   "version": "3.9.16"
  }
 },
 "nbformat": 4,
 "nbformat_minor": 5
}
